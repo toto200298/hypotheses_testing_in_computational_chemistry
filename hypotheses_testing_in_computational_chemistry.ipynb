{
 "cells": [
  {
   "cell_type": "markdown",
   "id": "546a0497",
   "metadata": {},
   "source": [
    "# Applying Hypothesis Testing in Computational Chemistry \n",
    "by Alfonso Cervantes Barragán,   \n",
    "Mathematician & Data scientist.  \n",
    "Candidate to PhD to Natural Science    \n",
    "\n",
    "\n",
    "\n",
    "## Abstract\n",
    "Hypothesis testing is an essential statistical technique in computational chemistry, enabling researchers to make informed, data-driven decisions about molecular properties, reaction mechanisms, and computational models. By validating models, optimizing simulation parameters, comparing different computational methods, and ensuring reproducibility, hypothesis testing enhances the reliability and accuracy of simulation results. This guide outlines the importance of hypothesis testing in computational chemistry, presents real-world examples, and provides a detailed explanation of the steps involved in hypothesis testing. The inclusion of practical Python examples illustrates how to perform hypothesis testing, making the process accessible and understandable. This approach ensures that computational chemists can confidently interpret their simulation results and draw significant conclusions.\n"
   ]
  },
  {
   "cell_type": "markdown",
   "id": "e7e1d549",
   "metadata": {},
   "source": [
    "## Introduction\n",
    "Computational chemistry is a dynamic field that uses computer simulations to understand and predict the behavior of chemical systems. Through mathematical models and algorithms, computational chemists can study molecular structures, reaction mechanisms, and material properties without the need for extensive and costly experiments. However, to make meaningful conclusions from the large datasets generated, it is essential to analyze and interpret the results rigorously. This is where hypothesis testing becomes invaluable.\n",
    "\n",
    "Hypothesis testing is a fundamental statistical method that allows computational chemists to make data-driven decisions and inferences. It helps determine if observed differences or effects in simulation results are statistically significant or simply due to chance. For example, a computational chemist might use hypothesis testing to evaluate whether a new force field predicts molecular geometries more accurately than an existing one, or if a novel quantum chemistry method provides better reaction barriers than traditional methods.\n"
   ]
  },
  {
   "cell_type": "markdown",
   "id": "9a8a6736",
   "metadata": {},
   "source": [
    "## Importance of Hypothesis Testing in Computational Chemistry\n",
    "Hypothesis testing is critical in computational chemistry for several reasons:\n",
    "\n",
    "1. **Validation of Computational Models**: New or improved models need validation against experimental data or established benchmarks. Hypothesis testing helps verify these models' accuracy.\n",
    "\n",
    "2. **Optimization of Simulation Parameters**: Selecting optimal parameters, such as basis sets, functionals, or force fields, can significantly impact simulation results. Hypothesis testing helps evaluate different parameter sets to choose the best one based on statistical evidence.\n",
    "\n",
    "3. **Comparative Studies**: Comparing the performance of different computational methods or algorithms is often necessary. Hypothesis testing provides a robust framework to assess whether one method outperforms another in predicting specific chemical properties.\n",
    "\n",
    "4. **Reproducibility and Reliability**: Ensuring research findings are reproducible and reliable is paramount. Hypothesis testing ensures that results are not due to random fluctuations but are statistically significant, enhancing credibility.\n"
   ]
  },
  {
   "cell_type": "markdown",
   "id": "ba568208",
   "metadata": {},
   "source": [
    "## Computational Chemistry Examples\n",
    "\n",
    "#### Example 1: Molecular Dynamics Simulations\n",
    "**Study Question:** Is the binding affinity of a ligand significantly different between two proteins?\n",
    "\n",
    "In this example, a computational chemist might run molecular dynamics simulations to calculate the binding affinities of a ligand to two different proteins, aiming to determine if the ligand binds more strongly to one protein compared to the other.\n",
    "\n",
    "- **Null Hypothesis (H0)**: The binding affinity of the ligand is the same for both proteins.\n",
    "- **Alternative Hypothesis (H1)**: The binding affinity of the ligand is different for the two proteins.\n",
    "\n",
    "#### Example 2: Quantum Chemistry Calculations\n",
    "**Study Question:** Does a new computational method predict reaction barriers more accurately than the traditional method?\n",
    "\n",
    "The chemist runs quantum chemistry calculations to predict reaction barriers using both the new method and the traditional method, aiming to see if the new method provides more accurate results.\n",
    "\n",
    "- **Null Hypothesis (H0)**: The average prediction error of the new method is equal to that of the traditional method.\n",
    "- **Alternative Hypothesis (H1)**: The average prediction error of the new method is lower than that of the traditional method.\n",
    "\n",
    "#### Example 3: Material Properties Prediction\n",
    "**Study Question:** Are the predicted properties of a new material significantly better than those of existing materials?\n",
    "\n",
    "Simulations are conducted to predict properties like tensile strength, thermal stability, or electrical conductivity of a new material and compare them with existing materials.\n",
    "\n",
    "- **Null Hypothesis (H0)**: The predicted properties of the new material are equal to those of the existing materials.\n",
    "- **Alternative Hypothesis (H1)**: The predicted properties of the new material are better than those of the existing materials.\n"
   ]
  },
  {
   "cell_type": "markdown",
   "id": "113fad6e",
   "metadata": {},
   "source": [
    "## Steps in Hypothesis Testing\n",
    "1. **State the Hypotheses**: Clearly define the null and alternative hypotheses [3].\n",
    "\n",
    "2. **Collect Data**: Gather a sample of relevant data for the hypothesis. For example, collect prediction errors from simulations using both methods [4].\n",
    "\n",
    "3. **Choose a Significance Level (α)**: This is the probability of rejecting the null hypothesis when it is true. Common values are 0.05 (5%) or 0.01 (1%) [5].\n",
    "\n",
    "4. **Calculate a Test Statistic**: A standardized value derived from sample data, used to decide whether to reject the null hypothesis. Examples include the t-statistic, z-statistic, or chi-square statistic [3].\n",
    "\n",
    "5. **Determine the P-Value**: The p-value indicates the probability of obtaining test results as extreme as the observed ones, assuming the null hypothesis is correct [4].\n",
    "\n",
    "6. **Make a Decision**:\n",
    "   - If the p-value is less than or equal to the significance level (α), reject the null hypothesis [1].\n",
    "   - If the p-value is greater than α, do not reject the null hypothesis [2].\n"
   ]
  },
  {
   "cell_type": "markdown",
   "id": "31869015",
   "metadata": {},
   "source": [
    "## Example 1: Prediction Errors\n",
    "You are evaluating a new computational method for predicting reaction barriers and believe its average prediction error is lower than that of the traditional method. You test this hypothesis by collecting prediction errors from 30 simulations using each method.\n",
    "\n",
    "1. **State the Hypotheses**:\n",
    "   - Null Hypothesis (H0): The average prediction error of the new method is equal to that of the traditional method.\n",
    "   - Alternative Hypothesis (H1): The average prediction error of the new method is lower than that of the traditional method.\n",
    "\n",
    "2. **Collect Data**: After running 30 simulations using each method, you obtain the following prediction errors (in kJ/mol):\n",
    "\n",
    "For the new method: [1.2, 1.0, 1.1, 1.3, 1.0, 1.1, 1.2, 1.4, 1.2, 1.1, 1.3, 1.0, 1.1, 1.2, 1.3, 1.0, 1.1, 1.2, 1.3, 1.0, 1.1, 1.2, 1.3, 1.0, 1.1, 1.2, 1.3, 1.0, 1.1, 1.2]\n",
    "\n",
    "For the traditional method: [1.5, 1.7, 1.6, 1.8, 1.7, 1.6, 1.5, 1.8, 1.6, 1.7, 1.5, 1.8, 1.6, 1.7, 1.5, 1.8, 1.6, 1.7, 1.5, 1.8, 1.6, 1.7, 1.5, 1.8, 1.6, 1.7, 1.5, 1.8, 1.6, 1.7]\n",
    "\n",
    "3. **Choose a Significance Level (α)**: You choose a significance level of 0.05 (5%).\n",
    "\n",
    "4. **Calculate a Test Statistic**: Using statistical software or formulas, calculate the test statistic. For this example, use a two-sample t-test to determine if the mean prediction error of the new method is lower than that of the traditional method.\n"
   ]
  },
  {
   "cell_type": "markdown",
   "id": "7d2e1f3f",
   "metadata": {},
   "source": [
    "## Example 2: Cookie Sweetness\n",
    "You believe that a new recipe produces cookies with a higher average sweetness score compared to the old recipe. Test this hypothesis by collecting sweetness scores from 10 cookies made using each recipe.\n",
    "\n",
    "1. **State the Hypotheses**:\n",
    "   - Null Hypothesis (H0): The average sweetness score of the new recipe is equal to that of the old recipe.\n",
    "   - Alternative Hypothesis (H1): The average sweetness score of the new recipe is higher than that of the old recipe.\n",
    "\n",
    "2. **Collect Data**: After baking 10 cookies using each recipe, you obtain the following sweetness scores (out of 10):\n",
    "\n",
    "For the new recipe: [8, 9, 8.5, 9, 8, 9, 8.5, 9, 8.5, 9]\n",
    "\n",
    "For the old recipe: [7, 7.5, 7, 8, 7, 7.5, 7, 8, 7.5, 7]\n",
    "\n",
    "3. **Choose a Significance Level (α)**: You choose a significance level of 0.05 (5%).\n",
    "\n",
    "4. **Calculate a Test Statistic**: Using statistical software or formulas, calculate the test statistic. For this example, use a two-sample t-test to determine if the mean sweetness score of the new recipe is higher than that of the old recipe.\n"
   ]
  },
  {
   "cell_type": "markdown",
   "id": "b300b895",
   "metadata": {},
   "source": [
    "## Understanding the T-Statistic\n",
    "The t-statistic compares the difference between the sample means and the hypothesized population mean relative to the variability of the sample data. It indicates how far the sample mean is from the hypothesized mean in units of standard error. A larger absolute value of the t-statistic indicates a greater difference between the sample mean and the hypothesized mean.\n",
    "\n",
    "The formula for the t-statistic in a two-sample t-test is:\n",
    "\n",
    "$$ t = \\frac{\\bar{x}_1 - \\bar{x}_2}{s_p \\sqrt{\\frac{1}{n_1} + \\frac{1}{n_2}}} $$\n",
    "\n",
    "where:\n",
    "- $\\bar{x}_1$ is the sample mean of the new method.\n",
    "- $\\bar{x}_2$ is the sample mean of the traditional method.\n",
    "- $s_p$ is the pooled standard deviation.\n",
    "- $n_1$ and $n_2$ are the sample sizes of the new and traditional methods, respectively.\n",
    "\n"
   ]
  },
  {
   "cell_type": "markdown",
   "id": "424c41d1",
   "metadata": {},
   "source": [
    "#### Step-by-Step Calculation\n",
    "1. **Calculate the sample means $\\bar{x}_1$ and $\\bar{x}_2$**:\n",
    "   $$\n",
    "   \\bar{x}_1 = \\frac{\\sum{x_{1i}}}{n_1} \\approx 1.15\n",
    "   $$\n",
    "   \n",
    "   $$\n",
    "   \\bar{x}_2 = \\frac{\\sum{x_{2i}}}{n_2} \\approx 1.65\n",
    "   $$\n",
    "\n",
    "2. **Calculate the pooled standard deviation (\\(s_p\\))**:\n",
    "   $$\n",
    "   s_p = \\sqrt{\\frac{(n_1 - 1)s_1^2 + (n_2 - 1)s_2^2}{n_1 + n_2 - 2}} \\approx 0.20\n",
    "   $$\n",
    "\n",
    "3. **Calculate the t-statistic**:\n",
    "   $$\n",
    "   t = \\frac{1.15 - 1.65}{0.20 \\sqrt{\\frac{1}{30} + \\frac{1}{30}}} \\approx -10.45\n",
    "   $$\n"
   ]
  },
  {
   "cell_type": "markdown",
   "id": "72eab360",
   "metadata": {},
   "source": [
    "#### Interpretation of the T-Statistic Value\n",
    "The t-statistic value indicates how far the sample mean is from the hypothesized population mean in units of the standard error. In this example, a t-statistic of -10.45 means that the sample mean prediction error of the new method is 10.45 standard errors below the sample mean prediction error of the traditional method. A t-statistic closer to 0 suggests that the sample means are close to each other, while a larger absolute value indicates a greater difference. Whether this difference is statistically significant depends on the corresponding p-value.\n",
    "\n"
   ]
  },
  {
   "cell_type": "markdown",
   "id": "96f47c39",
   "metadata": {},
   "source": [
    "## Python Example\n",
    "Here's a simple example in Python to illustrate hypothesis testing. We'll use a two-sample t-test to test if the average prediction error of the new method is lower than that of the traditional method.\n"
   ]
  },
  {
   "cell_type": "markdown",
   "id": "7dba664a",
   "metadata": {},
   "source": [
    "**Loading libraries**"
   ]
  },
  {
   "cell_type": "code",
   "execution_count": 15,
   "id": "dbd8506b",
   "metadata": {},
   "outputs": [],
   "source": [
    "import numpy as np\n",
    "from scipy import stats\n"
   ]
  },
  {
   "cell_type": "markdown",
   "id": "7ba94d04",
   "metadata": {},
   "source": [
    "**Sample data: prediction errors (in kJ/mol)**"
   ]
  },
  {
   "cell_type": "code",
   "execution_count": 16,
   "id": "6e7f6937",
   "metadata": {},
   "outputs": [],
   "source": [
    "new_method = [1.2, 1.0, 1.1, 1.3, 1.0, 1.1, 1.2, 1.4, 1.2, 1.1, 1.3, 1.0, 1.1, 1.2, 1.3, 1.0, 1.1, 1.2, 1.3, 1.0, 1.1, 1.2, 1.3, 1.0, 1.1, 1.2, 1.3, 1.0, 1.1, 1.2]\n",
    "traditional_method = [1.5, 1.7, 1.6, 1.8, 1.7, 1.6, 1.5, 1.8, 1.6, 1.7, 1.5, 1.8, 1.6, 1.7, 1.5, 1.8, 1.6, 1.7, 1.5, 1.8, 1.6, 1.7, 1.5, 1.8, 1.6, 1.7, 1.5, 1.8, 1.6, 1.7]\n"
   ]
  },
  {
   "cell_type": "markdown",
   "id": "425d43c8",
   "metadata": {},
   "source": [
    "Null hypothesis: mean prediction error of new method = mean prediction error of traditional method  \n",
    "Alternative hypothesis: mean prediction error of new method != mean prediction error of traditional method\n",
    "\n"
   ]
  },
  {
   "cell_type": "markdown",
   "id": "884ee3a8",
   "metadata": {},
   "source": [
    "**Calculate sample mean and standard deviation**"
   ]
  },
  {
   "cell_type": "code",
   "execution_count": 17,
   "id": "533e48a0",
   "metadata": {},
   "outputs": [],
   "source": [
    "mean_new = np.mean(new_method)\n",
    "mean_traditional = np.mean(traditional_method)\n",
    "std_new = np.std(new_method, ddof=1) \n",
    "std_traditional = np.std(traditional_method, ddof=1)\n"
   ]
  },
  {
   "cell_type": "markdown",
   "id": "cf829868",
   "metadata": {},
   "source": [
    "**Perform the two-sample t-test**"
   ]
  },
  {
   "cell_type": "code",
   "execution_count": 18,
   "id": "b058c383",
   "metadata": {},
   "outputs": [],
   "source": [
    "t_statistic, p_value = stats.ttest_ind(new_method, traditional_method)"
   ]
  },
  {
   "cell_type": "markdown",
   "id": "df546398",
   "metadata": {},
   "source": [
    "**Significance level**"
   ]
  },
  {
   "cell_type": "code",
   "execution_count": 19,
   "id": "28083fb3",
   "metadata": {},
   "outputs": [],
   "source": [
    "alpha = 0.05"
   ]
  },
  {
   "cell_type": "markdown",
   "id": "c1b2c4f6",
   "metadata": {},
   "source": [
    "**Print the results**"
   ]
  },
  {
   "cell_type": "code",
   "execution_count": 20,
   "id": "c20a4bd3",
   "metadata": {},
   "outputs": [
    {
     "name": "stdout",
     "output_type": "stream",
     "text": [
      "Sample Mean (New Method): 1.1533333333333333\n",
      "Sample Mean (Traditional Method): 1.6500000000000001\n",
      "T-statistic: -16.91961745633839\n",
      "P-value: 4.228339707303473e-24\n"
     ]
    }
   ],
   "source": [
    "print(\"Sample Mean (New Method):\", mean_new)\n",
    "print(\"Sample Mean (Traditional Method):\", mean_traditional)\n",
    "print(\"T-statistic:\", t_statistic)\n",
    "print(\"P-value:\", p_value)\n",
    "\n"
   ]
  },
  {
   "cell_type": "markdown",
   "id": "bc9b2a58",
   "metadata": {},
   "source": [
    "**Make a decision**"
   ]
  },
  {
   "cell_type": "code",
   "execution_count": 21,
   "id": "a8f9d4ea",
   "metadata": {},
   "outputs": [
    {
     "name": "stdout",
     "output_type": "stream",
     "text": [
      "Reject the null hypothesis. The mean prediction error of the new method is significantly lower than that of the traditional method.\n"
     ]
    }
   ],
   "source": [
    "if p_value <= alpha:\n",
    "    print(\"Reject the null hypothesis. The mean prediction error of the new method is significantly lower than that of the traditional method.\")\n",
    "else:\n",
    "    print(\"Fail to reject the null hypothesis. There is no significant difference in mean prediction error between the new and traditional methods.\")\n"
   ]
  },
  {
   "cell_type": "markdown",
   "id": "b875a7f9",
   "metadata": {},
   "source": [
    "## Interpretation of the Results\n",
    "The Python code above calculates the t-statistic and p-value for the two-sample t-test. If the p-value is less than or equal to the significance level (0.05), you reject the null hypothesis, indicating that the mean prediction error of the new method is significantly lower than that of the traditional method. If the p-value is greater than the significance level, you fail to reject the null hypothesis, indicating that there is no significant difference in mean prediction error between the two methods.\n"
   ]
  },
  {
   "cell_type": "markdown",
   "id": "5b1f906e",
   "metadata": {},
   "source": [
    "## Conclusion\n",
    "Hypothesis testing is a fundamental tool in computational chemistry, offering a robust framework for analyzing and validating simulation results. By enabling researchers to statistically assess whether observed differences or effects in their data are significant or due to random chance, hypothesis testing ensures the accuracy and reliability of their findings. This process is vital for several key areas in computational chemistry. Firstly, it allows for the validation of computational models by comparing predictions against experimental data or benchmarks, ensuring models are trustworthy and realistic. Secondly, it aids in the optimization of simulation parameters, such as basis sets and force fields, by identifying the best parameters through statistical evidence, thereby enhancing simulation precision and reducing errors. Thirdly, hypothesis testing is crucial in comparative studies of different computational methods, providing a rigorous approach to determine which method performs better in predicting specific chemical properties. This systematic comparison facilitates data-driven decisions in selecting the most effective computational approaches.\n",
    "\n",
    "Moreover, hypothesis testing enhances the reproducibility and reliability of computational chemistry research. By confirming that findings are not due to random variations but are statistically significant, it strengthens the credibility of the research outcomes. This is particularly important as computational chemistry continues to intersect with emerging technologies and interdisciplinary fields. For instance, in high-throughput screening, hypothesis testing can rapidly validate large datasets, accelerating the discovery of new materials and drugs. In the integration with machine learning and AI, it helps in validating model predictions, leading to more accurate simulations. Additionally, as quantum computing evolves, hypothesis testing will be essential in validating quantum simulation results, ensuring their applicability to real-world problems.\n",
    "\n",
    "Furthermore, hypothesis testing can significantly impact personalized medicine by tailoring computational models to predict individual responses to drugs based on genetic information, leading to more effective treatments. In environmental studies, it can validate models predicting the impact of chemical compounds, contributing to the development of safer and more sustainable materials. Overall, hypothesis testing is not just a tool for current computational chemistry applications but also a critical component for future innovations and interdisciplinary research, driving advancements and ensuring robust, data-driven scientific discoveries.\n"
   ]
  },
  {
   "cell_type": "markdown",
   "id": "6a287646",
   "metadata": {},
   "source": [
    "### References\n",
    "1. Devore, J. L. (2011). *Probability and Statistics for Engineering and the Sciences* (8th ed.). Brooks/Cole, Cengage Learning.\n",
    "2. Leach, A. R. (2001). Molecular modelling: principles and applications. Pearson education.\n"
   ]
  },
  {
   "cell_type": "code",
   "execution_count": null,
   "id": "edc9756d",
   "metadata": {},
   "outputs": [],
   "source": []
  }
 ],
 "metadata": {
  "kernelspec": {
   "display_name": "Python 3 (ipykernel)",
   "language": "python",
   "name": "python3"
  },
  "language_info": {
   "codemirror_mode": {
    "name": "ipython",
    "version": 3
   },
   "file_extension": ".py",
   "mimetype": "text/x-python",
   "name": "python",
   "nbconvert_exporter": "python",
   "pygments_lexer": "ipython3",
   "version": "3.11.5"
  }
 },
 "nbformat": 4,
 "nbformat_minor": 5
}
